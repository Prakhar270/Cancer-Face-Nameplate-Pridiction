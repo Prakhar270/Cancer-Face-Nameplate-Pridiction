{
 "cells": [
  {
   "cell_type": "code",
   "execution_count": 3,
   "metadata": {},
   "outputs": [],
   "source": [
    "import cv2\n",
    "import os\n",
    "from PIL import Image \n",
    "import pickle\n",
    "import numpy as np"
   ]
  },
  {
   "cell_type": "code",
   "execution_count": 4,
   "metadata": {},
   "outputs": [],
   "source": [
    "face_dict = {}\n",
    "def get_images_and_labels(path):\n",
    "    global face_dict\n",
    "    names=os.listdir(\"dataset\")\n",
    "    image_paths=[]\n",
    "    new_path=\"dataset\"\n",
    "    for name in names:\n",
    "        image_paths.append([os.path.join(new_path+\"\\\\\"+name, f) for f in os.listdir(new_path+\"\\\\\"+name)])\n",
    "    print(image_paths)\n",
    " # images will contains face images\n",
    "    images = []\n",
    " # labels will contains the label that is assigned to the image\n",
    "    labels = []\n",
    "    nbr = 0\n",
    "    i = 0\n",
    "    j = 0\n",
    "    for name in names:\n",
    "        for image_path in image_paths[j]:\n",
    "             # Read the image and convert to grayscale\n",
    "            image_pil = Image.open(image_path).convert('L')\n",
    "             # Convert the image format into numpy array\n",
    "            image = np.array(image_pil, 'uint8')\n",
    "            face_dict[j] = name\n",
    "            print(face_dict)\n",
    "            #nbr=int(''.join(str(ord(c)) for c in nbr))\n",
    "            print(image_path)\n",
    "             # Detect the face in the image\n",
    "            faceCascade = cv2.CascadeClassifier('face.xml')\n",
    "            faces = faceCascade.detectMultiScale(image)\n",
    "             # If face is detected, append the face to images and the label to labels\n",
    "            for (x, y, w, h) in faces:\n",
    "                images.append(image[y: y + h, x: x + w])\n",
    "                labels.append(j)\n",
    "                cv2.imshow(\"Adding faces to traning set...\", image[y: y + h, x: x + w])\n",
    "                cv2.waitKey(10)\n",
    "            i = i+1\n",
    "        j = j+1\n",
    "    return images,labels"
   ]
  },
  {
   "cell_type": "code",
   "execution_count": 5,
   "metadata": {},
   "outputs": [],
   "source": [
    "def save_obj(obj, name ):\n",
    "    with open(name + '.pkl', 'wb') as f:\n",
    "        pickle.dump(obj, f, pickle.HIGHEST_PROTOCOL)"
   ]
  },
  {
   "cell_type": "code",
   "execution_count": 7,
   "metadata": {},
   "outputs": [
    {
     "ename": "AttributeError",
     "evalue": "module 'cv2.cv2' has no attribute 'face'",
     "output_type": "error",
     "traceback": [
      "\u001b[1;31m---------------------------------------------------------------------------\u001b[0m",
      "\u001b[1;31mAttributeError\u001b[0m                            Traceback (most recent call last)",
      "\u001b[1;32m<ipython-input-7-bfb4bc2320fe>\u001b[0m in \u001b[0;36m<module>\u001b[1;34m\u001b[0m\n\u001b[0;32m      1\u001b[0m \u001b[1;31m#file_rename(path,names)\u001b[0m\u001b[1;33m\u001b[0m\u001b[1;33m\u001b[0m\u001b[1;33m\u001b[0m\u001b[0m\n\u001b[1;32m----> 2\u001b[1;33m \u001b[0mrecognizer\u001b[0m \u001b[1;33m=\u001b[0m \u001b[0mcv2\u001b[0m\u001b[1;33m.\u001b[0m\u001b[0mface\u001b[0m\u001b[1;33m.\u001b[0m\u001b[0mLBPHFaceRecognizer_create\u001b[0m\u001b[1;33m(\u001b[0m\u001b[1;33m)\u001b[0m\u001b[1;33m\u001b[0m\u001b[1;33m\u001b[0m\u001b[0m\n\u001b[0m\u001b[0;32m      3\u001b[0m \u001b[0mrecognizer\u001b[0m\u001b[1;33m.\u001b[0m\u001b[0mread\u001b[0m\u001b[1;33m(\u001b[0m\u001b[1;34m'trainer\\\\trainer.yml'\u001b[0m\u001b[1;33m)\u001b[0m\u001b[1;33m\u001b[0m\u001b[1;33m\u001b[0m\u001b[0m\n\u001b[0;32m      4\u001b[0m \u001b[0mimages\u001b[0m\u001b[1;33m,\u001b[0m \u001b[0mlabels\u001b[0m \u001b[1;33m=\u001b[0m \u001b[0mget_images_and_labels\u001b[0m\u001b[1;33m(\u001b[0m\u001b[1;34m'dataset\\\\shubham'\u001b[0m\u001b[1;33m)\u001b[0m\u001b[1;33m\u001b[0m\u001b[1;33m\u001b[0m\u001b[0m\n\u001b[0;32m      5\u001b[0m \u001b[1;31m#cv2.imshow('test',images[0])\u001b[0m\u001b[1;33m\u001b[0m\u001b[1;33m\u001b[0m\u001b[1;33m\u001b[0m\u001b[0m\n",
      "\u001b[1;31mAttributeError\u001b[0m: module 'cv2.cv2' has no attribute 'face'"
     ]
    }
   ],
   "source": [
    "#file_rename(path,names)\n",
    "recognizer = cv2.face.LBPHFaceRecognizer_create()\n",
    "recognizer.read('trainer\\\\trainer.yml')\n",
    "images, labels = get_images_and_labels('dataset\\\\shubham')\n",
    "#cv2.imshow('test',images[0])\n",
    "#cv2.waitKey(1)\n",
    "save_obj(face_dict,\"trainer\\\\trained_faces\")\n",
    "recognizer.train(images, np.array(labels))\n",
    "recognizer.save('trainer\\\\trainer.yml')\n",
    "cv2.destroyAllWindows()"
   ]
  },
  {
   "cell_type": "code",
   "execution_count": null,
   "metadata": {},
   "outputs": [],
   "source": []
  }
 ],
 "metadata": {
  "kernelspec": {
   "display_name": "Python 3",
   "language": "python",
   "name": "python3"
  },
  "language_info": {
   "codemirror_mode": {
    "name": "ipython",
    "version": 3
   },
   "file_extension": ".py",
   "mimetype": "text/x-python",
   "name": "python",
   "nbconvert_exporter": "python",
   "pygments_lexer": "ipython3",
   "version": "3.7.4"
  }
 },
 "nbformat": 4,
 "nbformat_minor": 2
}
